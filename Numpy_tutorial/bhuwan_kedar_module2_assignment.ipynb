{
 "cells": [
  {
   "cell_type": "code",
   "execution_count": 1,
   "metadata": {
    "ExecuteTime": {
     "end_time": "2019-06-25T10:47:19.233557Z",
     "start_time": "2019-06-25T10:47:19.135430Z"
    }
   },
   "outputs": [],
   "source": [
    "#import numpy module\n",
    "import numpy as np"
   ]
  },
  {
   "cell_type": "code",
   "execution_count": 2,
   "metadata": {
    "ExecuteTime": {
     "end_time": "2019-06-25T10:47:19.241286Z",
     "start_time": "2019-06-25T10:47:19.234560Z"
    }
   },
   "outputs": [
    {
     "name": "stdout",
     "output_type": "stream",
     "text": [
      "[1, 2, 3, 4]\n",
      "[1 2 3 4]\n",
      "[range(1, 5), range(5, 9)]\n",
      "[[1 2 3 4]\n",
      " [5 6 7 8]]\n"
     ]
    }
   ],
   "source": [
    "data1=[1,2,3,4] #list \n",
    "arr1=np.array(data1) # 1D array\n",
    "data2=[range(1,5), range(5,9)] #list of list\n",
    "arr2=np.array(data2) #2D array\n",
    "print(data1)\n",
    "print(arr1)\n",
    "print(data2)\n",
    "print(arr2)"
   ]
  },
  {
   "cell_type": "code",
   "execution_count": 3,
   "metadata": {
    "ExecuteTime": {
     "end_time": "2019-06-25T10:47:19.259991Z",
     "start_time": "2019-06-25T10:47:19.243995Z"
    }
   },
   "outputs": [
    {
     "data": {
      "text/plain": [
       "[[1, 2, 3, 4], [5, 6, 7, 8]]"
      ]
     },
     "execution_count": 3,
     "metadata": {},
     "output_type": "execute_result"
    }
   ],
   "source": [
    "arr2.tolist() ##convert array back to list"
   ]
  },
  {
   "cell_type": "markdown",
   "metadata": {},
   "source": [
    "## create special array"
   ]
  },
  {
   "cell_type": "code",
   "execution_count": 4,
   "metadata": {
    "ExecuteTime": {
     "end_time": "2019-06-25T10:47:19.269998Z",
     "start_time": "2019-06-25T10:47:19.261963Z"
    }
   },
   "outputs": [
    {
     "data": {
      "text/plain": [
       "array([0., 0., 0., 0., 0., 0., 0., 0., 0., 0.])"
      ]
     },
     "execution_count": 4,
     "metadata": {},
     "output_type": "execute_result"
    }
   ],
   "source": [
    "np.zeros(10)"
   ]
  },
  {
   "cell_type": "code",
   "execution_count": 5,
   "metadata": {
    "ExecuteTime": {
     "end_time": "2019-06-25T10:47:19.278936Z",
     "start_time": "2019-06-25T10:47:19.270928Z"
    }
   },
   "outputs": [
    {
     "data": {
      "text/plain": [
       "array([[0., 0., 0., 0., 0., 0.],\n",
       "       [0., 0., 0., 0., 0., 0.],\n",
       "       [0., 0., 0., 0., 0., 0.]])"
      ]
     },
     "execution_count": 5,
     "metadata": {},
     "output_type": "execute_result"
    }
   ],
   "source": [
    "np.zeros((3,6))"
   ]
  },
  {
   "cell_type": "code",
   "execution_count": 6,
   "metadata": {
    "ExecuteTime": {
     "end_time": "2019-06-25T10:47:19.290901Z",
     "start_time": "2019-06-25T10:47:19.279905Z"
    }
   },
   "outputs": [
    {
     "data": {
      "text/plain": [
       "array([1., 1., 1., 1., 1., 1., 1., 1., 1., 1.])"
      ]
     },
     "execution_count": 6,
     "metadata": {},
     "output_type": "execute_result"
    }
   ],
   "source": [
    "np.ones(10) # cerate array of 1"
   ]
  },
  {
   "cell_type": "code",
   "execution_count": 7,
   "metadata": {
    "ExecuteTime": {
     "end_time": "2019-06-25T10:47:19.299906Z",
     "start_time": "2019-06-25T10:47:19.291906Z"
    }
   },
   "outputs": [
    {
     "data": {
      "text/plain": [
       "array([0.  , 0.25, 0.5 , 0.75, 1.  ])"
      ]
     },
     "execution_count": 7,
     "metadata": {},
     "output_type": "execute_result"
    }
   ],
   "source": [
    "np.linspace(0,1,num=5) # 0 to 1 (inclusive )with 5 points"
   ]
  },
  {
   "cell_type": "code",
   "execution_count": 8,
   "metadata": {
    "ExecuteTime": {
     "end_time": "2019-06-25T10:47:19.309853Z",
     "start_time": "2019-06-25T10:47:19.301844Z"
    }
   },
   "outputs": [
    {
     "data": {
      "text/plain": [
       "array([   1.,   10.,  100., 1000.])"
      ]
     },
     "execution_count": 8,
     "metadata": {},
     "output_type": "execute_result"
    }
   ],
   "source": [
    "np.logspace(0,3,4)# 10^0 to 10^3 with 4 points"
   ]
  },
  {
   "cell_type": "code",
   "execution_count": 9,
   "metadata": {
    "ExecuteTime": {
     "end_time": "2019-06-25T10:47:19.318829Z",
     "start_time": "2019-06-25T10:47:19.311849Z"
    }
   },
   "outputs": [],
   "source": [
    "int_array=np.arange(5) #return range of array(not a list)"
   ]
  },
  {
   "cell_type": "code",
   "execution_count": 10,
   "metadata": {
    "ExecuteTime": {
     "end_time": "2019-06-25T10:47:19.328840Z",
     "start_time": "2019-06-25T10:47:19.319824Z"
    }
   },
   "outputs": [],
   "source": [
    "flaot_array=int_array.astype(float) #changes the array element type to float"
   ]
  },
  {
   "cell_type": "markdown",
   "metadata": {},
   "source": [
    "## examing array"
   ]
  },
  {
   "cell_type": "code",
   "execution_count": 11,
   "metadata": {
    "ExecuteTime": {
     "end_time": "2019-06-25T10:47:19.339744Z",
     "start_time": "2019-06-25T10:47:19.329771Z"
    }
   },
   "outputs": [
    {
     "name": "stdout",
     "output_type": "stream",
     "text": [
      "int32\n",
      "int32\n",
      "2\n",
      "(2, 4)\n",
      "8\n",
      "2\n"
     ]
    }
   ],
   "source": [
    "print(\"data type of arr1 is \", arr1.dtype)\n",
    "print(\"data type of arr2 is :\", arr2.dtype)\n",
    "print(\"dimension of arr1 is :\", arr1.ndim)\n",
    "print(\"dimension of arr2 is : \", arr2.ndim)\n",
    "print(\"shape of array, rows and columns is: \", arr2.shape)"
   ]
  },
  {
   "cell_type": "markdown",
   "metadata": {},
   "source": [
    "## Reshaping"
   ]
  },
  {
   "cell_type": "code",
   "execution_count": 12,
   "metadata": {
    "ExecuteTime": {
     "end_time": "2019-06-25T10:47:19.350791Z",
     "start_time": "2019-06-25T10:47:19.340763Z"
    }
   },
   "outputs": [],
   "source": [
    "arr=np.arange(10,dtype=float).reshape((5,2)) #creates array with 10 elements and reshape into 5 rows and 2 column"
   ]
  },
  {
   "cell_type": "code",
   "execution_count": 13,
   "metadata": {
    "ExecuteTime": {
     "end_time": "2019-06-25T10:47:19.362712Z",
     "start_time": "2019-06-25T10:47:19.351711Z"
    }
   },
   "outputs": [
    {
     "name": "stdout",
     "output_type": "stream",
     "text": [
      "(5, 2)\n",
      "[[0. 1.]\n",
      " [2. 3.]\n",
      " [4. 5.]\n",
      " [6. 7.]\n",
      " [8. 9.]]\n"
     ]
    }
   ],
   "source": [
    "print(arr.shape) # prints the shape of array\n",
    "print(arr.reshape(5,2)) # reshapes and prints  shape of array"
   ]
  },
  {
   "cell_type": "markdown",
   "metadata": {},
   "source": [
    "### Add an axis"
   ]
  },
  {
   "cell_type": "code",
   "execution_count": 14,
   "metadata": {
    "ExecuteTime": {
     "end_time": "2019-06-25T10:47:19.378722Z",
     "start_time": "2019-06-25T10:47:19.363704Z"
    }
   },
   "outputs": [
    {
     "name": "stdout",
     "output_type": "stream",
     "text": [
      "[[0]\n",
      " [1]]\n"
     ]
    }
   ],
   "source": [
    "a=np.array([0,1])  # creates an array\n",
    "a_col=a[:,np.newaxis] # creates new array by reshaping into column \n",
    "print(a_col) \n",
    "## a_col=a[:,None]"
   ]
  },
  {
   "cell_type": "markdown",
   "metadata": {},
   "source": [
    "## Transpose"
   ]
  },
  {
   "cell_type": "code",
   "execution_count": 15,
   "metadata": {
    "ExecuteTime": {
     "end_time": "2019-06-25T10:47:19.387704Z",
     "start_time": "2019-06-25T10:47:19.379664Z"
    }
   },
   "outputs": [
    {
     "data": {
      "text/plain": [
       "array([[0, 1]])"
      ]
     },
     "execution_count": 15,
     "metadata": {},
     "output_type": "execute_result"
    }
   ],
   "source": [
    "a_col.T # transposes an array"
   ]
  },
  {
   "cell_type": "markdown",
   "metadata": {},
   "source": [
    "## Flatten :always return a flat copy of the original array"
   ]
  },
  {
   "cell_type": "code",
   "execution_count": 16,
   "metadata": {
    "ExecuteTime": {
     "end_time": "2019-06-25T10:47:19.394623Z",
     "start_time": "2019-06-25T10:47:19.388637Z"
    }
   },
   "outputs": [
    {
     "name": "stdout",
     "output_type": "stream",
     "text": [
      "[33.  1.  2.  3.  4.  5.  6.  7.  8.  9.]\n",
      "[[0. 1.]\n",
      " [2. 3.]\n",
      " [4. 5.]\n",
      " [6. 7.]\n",
      " [8. 9.]]\n"
     ]
    }
   ],
   "source": [
    "arr_flt=arr.flatten() # returns a flat copy of the original array\n",
    "arr_flt[0]=33 # changes the first element \n",
    "print(arr_flt) \n",
    "print(arr)"
   ]
  },
  {
   "cell_type": "markdown",
   "metadata": {},
   "source": [
    "## Ravel :Return a view of the original array "
   ]
  },
  {
   "cell_type": "code",
   "execution_count": 17,
   "metadata": {
    "ExecuteTime": {
     "end_time": "2019-06-25T10:47:19.405649Z",
     "start_time": "2019-06-25T10:47:19.395637Z"
    }
   },
   "outputs": [
    {
     "name": "stdout",
     "output_type": "stream",
     "text": [
      "[0. 1. 2. 3. 4. 5. 6. 7. 8. 9.]\n",
      "[33.  1.  2.  3.  4.  5.  6.  7.  8.  9.]\n",
      "[[33.  1.]\n",
      " [ 2.  3.]\n",
      " [ 4.  5.]\n",
      " [ 6.  7.]\n",
      " [ 8.  9.]]\n"
     ]
    }
   ],
   "source": [
    "arr_flt=arr.ravel() # returns the view of an array\n",
    "print(arr_flt)\n",
    "arr_flt[0]=33 # changes the first element \n",
    "print(arr_flt)\n",
    "print(arr)"
   ]
  },
  {
   "cell_type": "markdown",
   "metadata": {},
   "source": [
    "## stack array"
   ]
  },
  {
   "cell_type": "code",
   "execution_count": 18,
   "metadata": {
    "ExecuteTime": {
     "end_time": "2019-06-25T10:47:19.412632Z",
     "start_time": "2019-06-25T10:47:19.406564Z"
    }
   },
   "outputs": [],
   "source": [
    "a=np.array([0,1]) # creates an array a\n",
    "b=np.array([2,3]) # creates an array b"
   ]
  },
  {
   "cell_type": "code",
   "execution_count": 19,
   "metadata": {
    "ExecuteTime": {
     "end_time": "2019-06-25T10:47:19.421606Z",
     "start_time": "2019-06-25T10:47:19.413566Z"
    }
   },
   "outputs": [],
   "source": [
    "ab=np.stack((a,b)).T # joins array a and b and transposes the result array\n",
    "##np.hstack(a[:,None],b[:,None])"
   ]
  },
  {
   "cell_type": "code",
   "execution_count": 20,
   "metadata": {
    "ExecuteTime": {
     "end_time": "2019-06-25T10:47:19.432497Z",
     "start_time": "2019-06-25T10:47:19.422551Z"
    }
   },
   "outputs": [
    {
     "name": "stdout",
     "output_type": "stream",
     "text": [
      "[[0 2]\n",
      " [1 3]]\n"
     ]
    }
   ],
   "source": [
    "print(ab)"
   ]
  },
  {
   "cell_type": "markdown",
   "metadata": {},
   "source": [
    "## selection"
   ]
  },
  {
   "cell_type": "code",
   "execution_count": 21,
   "metadata": {
    "ExecuteTime": {
     "end_time": "2019-06-25T10:47:19.444465Z",
     "start_time": "2019-06-25T10:47:19.434489Z"
    }
   },
   "outputs": [
    {
     "name": "stdout",
     "output_type": "stream",
     "text": [
      "[0. 1. 2. 3. 4.]\n",
      "3.0\n",
      "3.0\n"
     ]
    }
   ],
   "source": [
    "arr=np.arange(10,dtype=float).reshape((2,5))\n",
    "print(arr[0]) #oth element (slice like a list)\n",
    "print(arr[0,3]) #row 0,column 3: return 4\n",
    "print(arr[0][3]) # alternative syntax"
   ]
  },
  {
   "cell_type": "markdown",
   "metadata": {},
   "source": [
    "## slicing"
   ]
  },
  {
   "cell_type": "code",
   "execution_count": 22,
   "metadata": {
    "ExecuteTime": {
     "end_time": "2019-06-25T10:47:19.457440Z",
     "start_time": "2019-06-25T10:47:19.446459Z"
    },
    "scrolled": true
   },
   "outputs": [
    {
     "name": "stdout",
     "output_type": "stream",
     "text": [
      "[0. 1. 2. 3. 4.]\n",
      "[0. 5.]\n",
      "[[0. 1.]\n",
      " [5. 6.]]\n",
      "[[2. 3. 4.]\n",
      " [7. 8. 9.]]\n"
     ]
    }
   ],
   "source": [
    "print(arr[0, :])    # row 0: returns 1d array([1, 2, 3, 4])\n",
    "print(arr[:, 0])    # column 0: returns 1d array\n",
    "print(arr[:, :3])   # columns strictly before index 2 ( first columns )\n",
    "print(arr[:, 2:])   # columns after index 2 included\n",
    "arr2 = arr[:, 1:4]  # columns between index 1 (included) and 4 (excluded)\n",
    "print(arr2)\n",
    "arr2[0, 0] = 33\n",
    "print(arr2)\n",
    "print(arr)\n",
    "print(\"Reversed row\", arr[0, ::-1]) #reverse order"
   ]
  },
  {
   "cell_type": "code",
   "execution_count": 23,
   "metadata": {
    "ExecuteTime": {
     "end_time": "2019-06-25T10:47:19.466406Z",
     "start_time": "2019-06-25T10:47:19.461419Z"
    }
   },
   "outputs": [
    {
     "name": "stdout",
     "output_type": "stream",
     "text": [
      "[[1. 2. 3.]\n",
      " [6. 7. 8.]]\n"
     ]
    }
   ],
   "source": []
  },
  {
   "cell_type": "code",
   "execution_count": 24,
   "metadata": {
    "ExecuteTime": {
     "end_time": "2019-06-25T10:47:19.476377Z",
     "start_time": "2019-06-25T10:47:19.469398Z"
    }
   },
   "outputs": [
    {
     "name": "stdout",
     "output_type": "stream",
     "text": [
      "[[33.  2.  3.]\n",
      " [ 6.  7.  8.]]\n"
     ]
    }
   ],
   "source": [
    "arr2[0,0]=33\n",
    "print(arr2)"
   ]
  },
  {
   "cell_type": "code",
   "execution_count": 25,
   "metadata": {
    "ExecuteTime": {
     "end_time": "2019-06-25T10:47:19.484361Z",
     "start_time": "2019-06-25T10:47:19.478371Z"
    }
   },
   "outputs": [
    {
     "name": "stdout",
     "output_type": "stream",
     "text": [
      "[ 4.  3.  2. 33.  0.]\n"
     ]
    }
   ],
   "source": [
    "print(arr[0,::-1]) "
   ]
  },
  {
   "cell_type": "code",
   "execution_count": 26,
   "metadata": {
    "ExecuteTime": {
     "end_time": "2019-06-25T10:47:19.494337Z",
     "start_time": "2019-06-25T10:47:19.486352Z"
    }
   },
   "outputs": [],
   "source": [
    "## fancy indexing: integer or boolean array indexing\n"
   ]
  },
  {
   "cell_type": "code",
   "execution_count": 27,
   "metadata": {
    "ExecuteTime": {
     "end_time": "2019-06-25T10:47:19.507373Z",
     "start_time": "2019-06-25T10:47:19.496326Z"
    }
   },
   "outputs": [],
   "source": [
    "arr2=arr[:,[1,2,3]]"
   ]
  },
  {
   "cell_type": "code",
   "execution_count": 28,
   "metadata": {
    "ExecuteTime": {
     "end_time": "2019-06-25T10:47:19.518265Z",
     "start_time": "2019-06-25T10:47:19.509293Z"
    }
   },
   "outputs": [
    {
     "name": "stdout",
     "output_type": "stream",
     "text": [
      "[[33.  2.  3.]\n",
      " [ 6.  7.  8.]]\n"
     ]
    }
   ],
   "source": [
    "print(arr2)"
   ]
  },
  {
   "cell_type": "code",
   "execution_count": 29,
   "metadata": {
    "ExecuteTime": {
     "end_time": "2019-06-25T10:47:19.528240Z",
     "start_time": "2019-06-25T10:47:19.520262Z"
    }
   },
   "outputs": [],
   "source": [
    "arr2[0,0]=44"
   ]
  },
  {
   "cell_type": "code",
   "execution_count": 30,
   "metadata": {
    "ExecuteTime": {
     "end_time": "2019-06-25T10:47:19.537216Z",
     "start_time": "2019-06-25T10:47:19.530234Z"
    }
   },
   "outputs": [
    {
     "name": "stdout",
     "output_type": "stream",
     "text": [
      "[[44.  2.  3.]\n",
      " [ 6.  7.  8.]]\n"
     ]
    }
   ],
   "source": [
    "print(arr2)"
   ]
  },
  {
   "cell_type": "code",
   "execution_count": 31,
   "metadata": {
    "ExecuteTime": {
     "end_time": "2019-06-25T10:47:19.549183Z",
     "start_time": "2019-06-25T10:47:19.538214Z"
    }
   },
   "outputs": [
    {
     "name": "stdout",
     "output_type": "stream",
     "text": [
      "[[ 0. 33.  2.  3.  4.]\n",
      " [ 5.  6.  7.  8.  9.]]\n"
     ]
    }
   ],
   "source": [
    "print(arr)"
   ]
  },
  {
   "cell_type": "code",
   "execution_count": 32,
   "metadata": {
    "ExecuteTime": {
     "end_time": "2019-06-25T10:47:19.560155Z",
     "start_time": "2019-06-25T10:47:19.552179Z"
    }
   },
   "outputs": [],
   "source": [
    "#Boolean array indexing"
   ]
  },
  {
   "cell_type": "code",
   "execution_count": 33,
   "metadata": {
    "ExecuteTime": {
     "end_time": "2019-06-25T10:47:19.571126Z",
     "start_time": "2019-06-25T10:47:19.562149Z"
    }
   },
   "outputs": [],
   "source": [
    "arr2=arr[arr>5] # return a copy. 1d array with the element value greater than 5"
   ]
  },
  {
   "cell_type": "code",
   "execution_count": 34,
   "metadata": {
    "ExecuteTime": {
     "end_time": "2019-06-25T10:47:19.582095Z",
     "start_time": "2019-06-25T10:47:19.573119Z"
    }
   },
   "outputs": [
    {
     "name": "stdout",
     "output_type": "stream",
     "text": [
      "[33.  6.  7.  8.  9.]\n"
     ]
    }
   ],
   "source": [
    "print(arr2)"
   ]
  },
  {
   "cell_type": "code",
   "execution_count": 35,
   "metadata": {
    "ExecuteTime": {
     "end_time": "2019-06-25T10:47:19.591073Z",
     "start_time": "2019-06-25T10:47:19.584090Z"
    }
   },
   "outputs": [],
   "source": [
    "arr2[0]=44"
   ]
  },
  {
   "cell_type": "code",
   "execution_count": 36,
   "metadata": {
    "ExecuteTime": {
     "end_time": "2019-06-25T10:47:19.602044Z",
     "start_time": "2019-06-25T10:47:19.593068Z"
    }
   },
   "outputs": [
    {
     "name": "stdout",
     "output_type": "stream",
     "text": [
      "[44.  6.  7.  8.  9.]\n",
      "[[ 0. 33.  2.  3.  4.]\n",
      " [ 5.  6.  7.  8.  9.]]\n"
     ]
    }
   ],
   "source": [
    "print(arr2)\n",
    "print(arr)"
   ]
  },
  {
   "cell_type": "code",
   "execution_count": 37,
   "metadata": {
    "ExecuteTime": {
     "end_time": "2019-06-25T10:47:19.615006Z",
     "start_time": "2019-06-25T10:47:19.604038Z"
    }
   },
   "outputs": [
    {
     "name": "stdout",
     "output_type": "stream",
     "text": [
      "[[0. 0. 2. 3. 4.]\n",
      " [5. 0. 0. 0. 0.]]\n"
     ]
    }
   ],
   "source": [
    "arr[arr>5]=0\n",
    "print(arr)"
   ]
  },
  {
   "cell_type": "code",
   "execution_count": 38,
   "metadata": {
    "ExecuteTime": {
     "end_time": "2019-06-25T10:47:19.624980Z",
     "start_time": "2019-06-25T10:47:19.617003Z"
    }
   },
   "outputs": [
    {
     "data": {
      "text/plain": [
       "array(['joe', 'will'], dtype='<U4')"
      ]
     },
     "execution_count": 38,
     "metadata": {},
     "output_type": "execute_result"
    }
   ],
   "source": [
    "names=np.array([\"Bob\",\"joe\",\"will\",\"Bob\"])\n",
    "names==\"Bob\" # returns a boolean array\n",
    "names[names !=\"Bob\"] # logical selection if name is not equal to Bob"
   ]
  },
  {
   "cell_type": "code",
   "execution_count": null,
   "metadata": {},
   "outputs": [],
   "source": [
    "(names == 'Bob') | (names == 'Will') #if name is Bob or Will it returns true else false\n"
   ]
  },
  {
   "cell_type": "code",
   "execution_count": 39,
   "metadata": {
    "ExecuteTime": {
     "end_time": "2019-06-25T10:47:19.633956Z",
     "start_time": "2019-06-25T10:47:19.626977Z"
    }
   },
   "outputs": [],
   "source": [
    "names[names !=\"Bob\"]=\"joe\" # if name is not equal to bob replace element by joea\n"
   ]
  },
  {
   "cell_type": "code",
   "execution_count": 40,
   "metadata": {
    "ExecuteTime": {
     "end_time": "2019-06-25T10:47:19.645926Z",
     "start_time": "2019-06-25T10:47:19.635952Z"
    }
   },
   "outputs": [
    {
     "data": {
      "text/plain": [
       "array(['Bob', 'joe'], dtype='<U4')"
      ]
     },
     "execution_count": 40,
     "metadata": {},
     "output_type": "execute_result"
    }
   ],
   "source": [
    "np.unique(names) # returns unique element of names array"
   ]
  },
  {
   "cell_type": "code",
   "execution_count": 41,
   "metadata": {
    "ExecuteTime": {
     "end_time": "2019-06-25T10:47:19.654900Z",
     "start_time": "2019-06-25T10:47:19.647921Z"
    }
   },
   "outputs": [],
   "source": [
    "#vectorized operations"
   ]
  },
  {
   "cell_type": "code",
   "execution_count": 42,
   "metadata": {
    "ExecuteTime": {
     "end_time": "2019-06-25T10:47:19.666904Z",
     "start_time": "2019-06-25T10:47:19.656895Z"
    }
   },
   "outputs": [
    {
     "name": "stdout",
     "output_type": "stream",
     "text": [
      "7.004523776273183\n",
      "[[0.00630595 0.20303476 0.76478993]\n",
      " [0.55513384 0.74358546 0.93777808]]\n",
      "[-2.79962074e-01  1.31281104e+00 -9.27155784e-01 -4.01302169e-01\n",
      " -2.31085929e+00 -2.08460156e+00  4.59241643e-01  1.62191344e+00\n",
      "  1.94515120e-01 -2.08631547e-03]\n",
      "[0 0 0 1 1 0 1 1 1 1]\n"
     ]
    }
   ],
   "source": [
    "nums=np.arange(5) # creates numpy array called nums\n",
    "nums*10 # multiplies each element by 10\n",
    "nums=np.sqrt(nums) # returns squre root of each element\n",
    "np.ceil(nums) # also floor, rint (round to nearest int)\n",
    "np.isnan(nums) # checks for NaN\n",
    "nums+np.arange(5) # add element-wise\n",
    "np.maximum(nums,np.array([1,-2,3,-4,5])) # compare element-wise and return the array with maximum\n",
    "\n",
    "# computing Euclidean distance between 2 vectors\n",
    "vec1=np.random.randn(10) # creates an array with random number \n",
    "vec2=np.random.randn(10)# creates an array with random number \n",
    "dist=np.sqrt(np.sum(vec1-vec2)**2) # forula to calculate Euclidean distance\n",
    "print(dist)\n",
    "rnd=np.random.randn(4,2) # creates 4x2 array with random number \n",
    "rnd.mean() # return mean of an array\n",
    "rnd.std() # returns standard deviation of an array\n",
    "rnd.argmin() # returns index of minimum element\n",
    "rnd.sum() # returns the sum of elements of an array\n",
    "rnd.sum(axis=0) # returns sum of columns\n",
    "rnd.sum(axis=1) # returns sum of rows\n",
    "\n",
    "(rnd>0).any() # checks if any value is true\n",
    "(rnd>0).all() # checks if all value is true\n",
    "\n",
    "# random numbers\n",
    "np.random.seed(12234)  # set the seed\n",
    "print(np.random.rand(2,3)) # 2x3 matrix in  [0, 1]\n",
    "print(np.random.randn(10)) # random normals ( mean 0, sd 1)\n",
    "print(np.random.randint(0,2,10)) # 10 randomly picked 0 or 1"
   ]
  },
  {
   "cell_type": "markdown",
   "metadata": {},
   "source": [
    "## Boardcasting"
   ]
  },
  {
   "cell_type": "code",
   "execution_count": 43,
   "metadata": {
    "ExecuteTime": {
     "end_time": "2019-06-25T10:47:19.673884Z",
     "start_time": "2019-06-25T10:47:19.667866Z"
    }
   },
   "outputs": [],
   "source": [
    "# creating 4 x 3 matric\n",
    "a=np.array([[0,0,0],\n",
    "            [10,10,10],\n",
    "            [20,20,20],\n",
    "            [30,30,30]\n",
    "           ])\n",
    "b=np.array([0,1,2]) # creating 1d array"
   ]
  },
  {
   "cell_type": "code",
   "execution_count": 44,
   "metadata": {
    "ExecuteTime": {
     "end_time": "2019-06-25T10:47:19.685847Z",
     "start_time": "2019-06-25T10:47:19.675846Z"
    }
   },
   "outputs": [
    {
     "name": "stdout",
     "output_type": "stream",
     "text": [
      "[[ 0  1  2]\n",
      " [10 11 12]\n",
      " [20 21 22]\n",
      " [30 31 32]]\n"
     ]
    }
   ],
   "source": [
    "print(a+b) # adding array a and b and printing the result"
   ]
  },
  {
   "cell_type": "markdown",
   "metadata": {},
   "source": [
    "# Assignment"
   ]
  },
  {
   "cell_type": "code",
   "execution_count": 45,
   "metadata": {
    "ExecuteTime": {
     "end_time": "2019-06-25T10:47:19.694793Z",
     "start_time": "2019-06-25T10:47:19.687858Z"
    }
   },
   "outputs": [],
   "source": [
    "# creating random array  X with 4 rows and 2 column \n",
    "X=np.random.rand(4,2)"
   ]
  },
  {
   "cell_type": "code",
   "execution_count": 46,
   "metadata": {
    "ExecuteTime": {
     "end_time": "2019-06-25T10:47:19.704766Z",
     "start_time": "2019-06-25T10:47:19.696787Z"
    }
   },
   "outputs": [
    {
     "name": "stdout",
     "output_type": "stream",
     "text": [
      "[[0.38180717 0.81368435]\n",
      " [0.45600361 0.98253171]\n",
      " [0.65195391 0.89018285]\n",
      " [0.69723802 0.04095198]]\n"
     ]
    }
   ],
   "source": [
    "print(X) # printing array X"
   ]
  },
  {
   "cell_type": "code",
   "execution_count": 47,
   "metadata": {
    "ExecuteTime": {
     "end_time": "2019-06-25T10:47:19.713771Z",
     "start_time": "2019-06-25T10:47:19.705765Z"
    }
   },
   "outputs": [
    {
     "name": "stdout",
     "output_type": "stream",
     "text": [
      "[0 3]\n"
     ]
    }
   ],
   "source": [
    "print(X.argmin(axis=0)) # finding the row index of the minimum value"
   ]
  },
  {
   "cell_type": "code",
   "execution_count": 48,
   "metadata": {
    "ExecuteTime": {
     "end_time": "2019-06-25T10:47:19.723725Z",
     "start_time": "2019-06-25T10:47:19.714778Z"
    }
   },
   "outputs": [],
   "source": [
    "'''\n",
    "function: standardize\n",
    "work: standardizes an array\n",
    "return: an array whose columns are centered and scaled(by std-dev)\n",
    "\n",
    "'''\n",
    "def standardize(X):\n",
    "    standardized_l = (X-X.mean())/X.std() # formula for standerdization\n",
    "    print(standardized_l)"
   ]
  },
  {
   "cell_type": "code",
   "execution_count": 49,
   "metadata": {
    "ExecuteTime": {
     "end_time": "2019-06-25T10:47:19.738738Z",
     "start_time": "2019-06-25T10:47:19.727709Z"
    }
   },
   "outputs": [
    {
     "name": "stdout",
     "output_type": "stream",
     "text": [
      "[[-0.80479843  0.69022724]\n",
      " [-0.54795322  1.27472475]\n",
      " [ 0.13036631  0.95504144]\n",
      " [ 0.28712592 -1.98473401]]\n"
     ]
    }
   ],
   "source": [
    "standardize(X) # calling function"
   ]
  },
  {
   "cell_type": "code",
   "execution_count": null,
   "metadata": {},
   "outputs": [],
   "source": []
  },
  {
   "cell_type": "code",
   "execution_count": null,
   "metadata": {},
   "outputs": [],
   "source": []
  },
  {
   "cell_type": "code",
   "execution_count": null,
   "metadata": {},
   "outputs": [],
   "source": []
  }
 ],
 "metadata": {
  "kernelspec": {
   "display_name": "Python 3",
   "language": "python",
   "name": "python3"
  },
  "language_info": {
   "codemirror_mode": {
    "name": "ipython",
    "version": 3
   },
   "file_extension": ".py",
   "mimetype": "text/x-python",
   "name": "python",
   "nbconvert_exporter": "python",
   "pygments_lexer": "ipython3",
   "version": "3.7.3"
  },
  "toc": {
   "base_numbering": 1,
   "nav_menu": {},
   "number_sections": true,
   "sideBar": true,
   "skip_h1_title": false,
   "title_cell": "Table of Contents",
   "title_sidebar": "Contents",
   "toc_cell": false,
   "toc_position": {},
   "toc_section_display": true,
   "toc_window_display": false
  },
  "varInspector": {
   "cols": {
    "lenName": 16,
    "lenType": 16,
    "lenVar": 40
   },
   "kernels_config": {
    "python": {
     "delete_cmd_postfix": "",
     "delete_cmd_prefix": "del ",
     "library": "var_list.py",
     "varRefreshCmd": "print(var_dic_list())"
    },
    "r": {
     "delete_cmd_postfix": ") ",
     "delete_cmd_prefix": "rm(",
     "library": "var_list.r",
     "varRefreshCmd": "cat(var_dic_list()) "
    }
   },
   "types_to_exclude": [
    "module",
    "function",
    "builtin_function_or_method",
    "instance",
    "_Feature"
   ],
   "window_display": false
  }
 },
 "nbformat": 4,
 "nbformat_minor": 2
}
